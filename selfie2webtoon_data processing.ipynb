{
 "cells": [
  {
   "cell_type": "markdown",
   "metadata": {},
   "source": [
    "### 디렉토리 내 특정 확장자를 가진 파일만 읽은 후 다른 폴더에 저장"
   ]
  },
  {
   "cell_type": "code",
   "execution_count": 1,
   "metadata": {},
   "outputs": [],
   "source": [
    "import os, shutil, glob\n",
    "\n",
    "source_dir = \"cartoon\"\n",
    "dest_dir = \"cartoon_new\"\n",
    "\n",
    "for root, dirnames, filenames in os.walk(source_dir):\n",
    "       for file in filenames:\n",
    "           (shortname, extension) = os.path.splitext(file)\n",
    "           if extension == \".png\" :\n",
    "               shutil.copy2(os.path.join(root,file), os.path.join(dest_dir,   \n",
    "                            os.path.relpath(os.path.join(root,file),source_dir)))"
   ]
  },
  {
   "cell_type": "markdown",
   "metadata": {},
   "source": [
    "### [참고] 디렉토리 내 특정 확장자를 가진 파일만 읽기"
   ]
  },
  {
   "cell_type": "code",
   "execution_count": 5,
   "metadata": {
    "collapsed": true
   },
   "outputs": [
    {
     "name": "stdout",
     "output_type": "stream",
     "text": [
    ]
    }
   ],
   "source": [
    "# 현재 디렉토리에 있는 모든 파일 리스트를 가져옴\n",
    "import os\n",
    "path = \"cartoon\"\n",
    "file_list = os.listdir(path)\n",
    "print(\"file_list: {}\".format(file_list))"
   ]
  },
  {
   "cell_type": "code",
   "execution_count": 6,
   "metadata": {
    "collapsed": true
   },
   "outputs": [
    {
     "name": "stdout",
     "output_type": "stream",
     "text": [
 ]
    }
   ],
   "source": [
    "# 특정 확장자를 가진 파일 리스트만 가져옴\n",
    "import os\n",
    "\n",
    "path = \"cartoon\"\n",
    "file_list = os.listdir(path)\n",
    "file_list_py = [file for file in file_list if file.endswith(\".png\")]\n",
    "\n",
    "print(\"file_list_py: {}\".format(file_list_py))"
   ]
  },
  {
   "cell_type": "markdown",
   "metadata": {},
   "source": [
    "### image를 다른 format으로 바꿔서 저장하기 (png to jpg)"
   ]
  },
  {
   "cell_type": "code",
   "execution_count": 11,
   "metadata": {},
   "outputs": [
    {
     "data": {
      "application/vnd.jupyter.widget-view+json": {
       "model_id": "468b86be5f0b4de2bcc6206dbe2ac5c4",
       "version_major": 2,
       "version_minor": 0
      },
      "text/plain": [
       "HBox(children=(IntProgress(value=1, bar_style='info', max=1), HTML(value='')))"
      ]
     },
     "metadata": {},
     "output_type": "display_data"
    },
    {
     "name": "stdout",
     "output_type": "stream",
     "text": [
      "\n"
     ]
    }
   ],
   "source": [
    "from tqdm import tqdm_notebook\n",
    "from glob import glob                                                           \n",
    "import cv2 \n",
    "import os\n",
    "\n",
    "# cartoon 폴더 안에 있는 png 파일을 jpg로 바꿔서 convert 폴더에 저장\n",
    "pngs = glob('cartoon/*.png')\n",
    "total = tqdm_notebook\n",
    "path = './convert'\n",
    "    \n",
    "for j in total(pngs):\n",
    "#    print(j)\n",
    "    img = cv2.imread(j)\n",
    "    # j 범위 설정에 주의! 폴더 명에 따라 바꿔줘야 함.\n",
    "    save_name = os.path.join(path, j[8:-3] + 'jpg') \n",
    "    if os.path.exists(path):\n",
    "        cv2.imwrite(save_name, img)\n",
    "    else:\n",
    "        print(\"there is no path\")"
   ]
  },
  {
   "cell_type": "markdown",
   "metadata": {},
   "source": [
    "### data preprocessing"
   ]
  },
  {
   "cell_type": "code",
   "execution_count": 3,
   "metadata": {},
   "outputs": [],
   "source": [
    "import glob\n",
    "import time\n",
    "import cv2\n",
    "import os\n",
    "import tensorflow as tf\n",
    "import numpy as np\n",
    "import matplotlib.pyplot as plt\n",
    "from tensorflow.keras.preprocessing.image import load_img, save_img, img_to_array, array_to_img\n",
    "from PIL import Image"
   ]
  },
  {
   "cell_type": "code",
   "execution_count": 4,
   "metadata": {},
   "outputs": [],
   "source": [
    "basic_dir = './data/'\n",
    "folders = ['selfie', 'cartoon']\n",
    "x = []\n",
    "y = []\n",
    "for i, f in enumerate(folders):\n",
    "    dirs = glob.glob(basic_dir + f + '/*')\n",
    "    if i == 0:\n",
    "        for d in dirs:\n",
    "            img = load_img(d, target_size = (256, 256))\n",
    "            img = img_to_array(img)\n",
    "            x.append(img / 255.)\n",
    "    else:\n",
    "        for d in dirs:\n",
    "            img = load_img(d, target_size = (256, 256))\n",
    "            img = img_to_array(img)\n",
    "            y.append(img / 255.) "
   ]
  },
  {
   "cell_type": "code",
   "execution_count": 5,
   "metadata": {},
   "outputs": [],
   "source": [
    "#npz 파일 포멧은 여러개의 리스트를 한번에 저장하기 위한 포멧이다\n",
    "\n",
    "np.savez('./data/selfie.npz', x[:1003])\n",
    "np.savez('./data/cartoon.npz', y[:1003])"
   ]
  },
  {
   "cell_type": "code",
   "execution_count": null,
   "metadata": {},
   "outputs": [],
   "source": []
  }
 ],
 "metadata": {
  "kernelspec": {
   "display_name": "Python 3",
   "language": "python",
   "name": "python3"
  },
  "language_info": {
   "codemirror_mode": {
    "name": "ipython",
    "version": 3
   },
   "file_extension": ".py",
   "mimetype": "text/x-python",
   "name": "python",
   "nbconvert_exporter": "python",
   "pygments_lexer": "ipython3",
   "version": "3.7.3"
  }
 },
 "nbformat": 4,
 "nbformat_minor": 2
}
