{
 "cells": [
  {
   "cell_type": "markdown",
   "metadata": {},
   "source": [
    "### 디렉토리 내 특정 확장자를 가진 파일만 읽은 후 다른 폴더에 저장"
   ]
  },
  {
   "cell_type": "code",
   "execution_count": 1,
   "metadata": {},
   "outputs": [],
   "source": [
    "import os, shutil, glob\n",
    "\n",
    "source_dir = \"cartoon\"\n",
    "dest_dir = \"cartoon_new\"\n",
    "\n",
    "for root, dirnames, filenames in os.walk(source_dir):\n",
    "       for file in filenames:\n",
    "           (shortname, extension) = os.path.splitext(file)\n",
    "           if extension == \".png\" :\n",
    "               shutil.copy2(os.path.join(root,file), os.path.join(dest_dir,   \n",
    "                            os.path.relpath(os.path.join(root,file),source_dir)))"
   ]
  },
  {
   "cell_type": "markdown",
   "metadata": {},
   "source": [
    "### [참고] 디렉토리 내 특정 확장자를 가진 파일만 읽기"
   ]
  },
  {
   "cell_type": "code",
   "execution_count": 5,
   "metadata": {
    "collapsed": true
   },
   "outputs": [
    {
     "name": "stdout",
     "output_type": "stream",
     "text": [
      "file_list: ['cs10000053986926948907.csv', 'cs10000053986926948907.png', 'cs10000354665834323549.csv', 'cs10000354665834323549.png', 'cs10000417372154603123.csv', 'cs10000417372154603123.png', 'cs10000524080030775394.csv', 'cs10000524080030775394.png', 'cs10000592242416795426.csv', 'cs10000592242416795426.png', 'cs10000811708184140319.csv', 'cs10000811708184140319.png', 'cs10000849938093558363.csv', 'cs10000849938093558363.png', 'cs10000898984263089511.csv', 'cs10000898984263089511.png', 'cs100214067654451312.csv', 'cs100214067654451312.png', 'cs100279640926771550.csv', 'cs100279640926771550.png', 'cs100367196602765414.csv', 'cs100367196602765414.png', 'cs100444304289930325.csv', 'cs100444304289930325.png', 'cs100630750052269087.csv', 'cs100630750052269087.png', 'cs101172805621739638.csv', 'cs101172805621739638.png', 'cs101724504648038815.csv', 'cs101724504648038815.png', 'cs101767157496046490.csv', 'cs101767157496046490.png', 'cs10188651804540743.csv', 'cs10188651804540743.png', 'cs101957715605808227.csv', 'cs101957715605808227.png', 'cs102400950696764945.csv', 'cs102400950696764945.png', 'cs102422236815498498.csv', 'cs102422236815498498.png', 'cs102861240281778234.csv', 'cs102861240281778234.png', 'cs102996970073821635.csv', 'cs102996970073821635.png', 'cs103078152548071803.csv', 'cs103078152548071803.png', 'cs103423283580625484.csv', 'cs103423283580625484.png', 'cs103486772320911001.csv', 'cs103486772320911001.png', 'cs103587423973880298.csv', 'cs103587423973880298.png', 'cs103659213402785408.csv', 'cs103659213402785408.png', 'cs103663933281312281.csv', 'cs103663933281312281.png', 'cs103822919467497853.csv', 'cs103822919467497853.png', 'cs103987180036984774.csv', 'cs103987180036984774.png', 'cs104029297788010187.csv', 'cs104029297788010187.png', 'cs104058099070443101.csv', 'cs104058099070443101.png', 'cs104393807829754417.csv', 'cs104393807829754417.png', 'cs10445905019035139.csv', 'cs10445905019035139.png', 'cs104495237148868391.csv', 'cs104495237148868391.png', 'cs104551932686398700.csv', 'cs104551932686398700.png', 'cs104563437674275986.csv', 'cs104563437674275986.png', 'cs1048486361028912.csv', 'cs1048486361028912.png', 'cs104924347815727490.csv', 'cs104924347815727490.png', 'cs104968955657654599.csv', 'cs104968955657654599.png', 'cs104983947614280485.csv', 'cs104983947614280485.png', 'cs105013173991731446.csv', 'cs105013173991731446.png', 'cs105105240413858862.csv', 'cs105105240413858862.png', 'cs105149584509303839.csv', 'cs105149584509303839.png', 'cs105316240118440367.csv', 'cs105316240118440367.png', 'cs105362030430960514.csv', 'cs105362030430960514.png', 'cs105479796479016880.csv', 'cs105479796479016880.png', 'cs10562124521050923.csv', 'cs10562124521050923.png', 'cs105703236117912354.csv', 'cs105703236117912354.png', 'cs105773704768325821.csv', 'cs105773704768325821.png', 'cs106047397033627025.csv', 'cs106047397033627025.png', 'cs106140924474526814.csv', 'cs106140924474526814.png', 'cs106409332972483190.csv', 'cs106409332972483190.png', 'cs106512632384455646.csv', 'cs106512632384455646.png', 'cs106642065521244760.csv', 'cs106642065521244760.png', 'cs106882438988624722.csv', 'cs106882438988624722.png', 'cs10712649413789781.csv', 'cs10712649413789781.png', 'cs107284793615978722.csv', 'cs107284793615978722.png', 'cs107311176389079257.csv', 'cs107311176389079257.png', 'cs107403158821956651.csv', 'cs107403158821956651.png', 'cs108141475536149981.csv', 'cs108141475536149981.png', 'cs10823521825795415.csv', 'cs10823521825795415.png', 'cs108402147894320174.csv', 'cs108402147894320174.png', 'cs108611842236428884.csv', 'cs108611842236428884.png', 'cs108714949713610007.csv', 'cs108714949713610007.png', 'cs108740082089553936.csv', 'cs108740082089553936.png', 'cs109057168874288515.csv', 'cs109057168874288515.png', 'cs109230125219233296.csv', 'cs109230125219233296.png', 'cs109239982892890840.csv', 'cs109239982892890840.png', 'cs109328847176380298.csv', 'cs109328847176380298.png', 'cs109444392754548425.csv', 'cs109444392754548425.png', 'cs109756520370833669.csv', 'cs109756520370833669.png', 'cs109957928771947348.csv', 'cs109957928771947348.png', 'cs110023709536839282.csv', 'cs110023709536839282.png', 'cs11010345522393046.csv', 'cs11010345522393046.png', 'cs110526296514948366.csv', 'cs110526296514948366.png', 'cs110563931557499787.csv', 'cs110563931557499787.png', 'cs110790626714649728.csv', 'cs110790626714649728.png', 'cs110848211297309264.csv', 'cs110848211297309264.png', 'cs110895378980355805.csv', 'cs110895378980355805.png', 'cs11096764340505821.csv', 'cs11096764340505821.png', 'cs111464773118169668.csv', 'cs111464773118169668.png', 'cs111730397949486489.csv', 'cs111730397949486489.png', 'cs112145447474950623.csv', 'cs112145447474950623.png', 'cs112531926704693505.csv', 'cs112531926704693505.png', 'cs1125646615313076.csv', 'cs1125646615313076.png', 'cs112649497221166171.csv', 'cs112649497221166171.png', 'cs112792777109162058.csv', 'cs112792777109162058.png', 'cs112858343352712292.csv', 'cs112858343352712292.png', 'cs113239488699437069.csv', 'cs113239488699437069.png', 'cs113270871606642660.csv', 'cs113270871606642660.png', 'cs11361288859011089.csv', 'cs11361288859011089.png', 'cs11365107979606767.csv', 'cs11365107979606767.png', 'cs113835201862675849.csv', 'cs113835201862675849.png', 'cs114083562476861379.csv', 'cs114083562476861379.png', 'cs114442194319972023.csv', 'cs114442194319972023.png', 'cs114572491926134293.csv', 'cs114572491926134293.png', 'cs114653745181833031.csv', 'cs114653745181833031.png', 'cs114670826804284719.csv', 'cs114670826804284719.png', 'cs115015743350173470.csv', 'cs115015743350173470.png']\n"
     ]
    }
   ],
   "source": [
    "# 현재 디렉토리에 있는 모든 파일 리스트를 가져옴\n",
    "import os\n",
    "path = \"cartoon\"\n",
    "file_list = os.listdir(path)\n",
    "print(\"file_list: {}\".format(file_list))"
   ]
  },
  {
   "cell_type": "code",
   "execution_count": 6,
   "metadata": {
    "collapsed": true
   },
   "outputs": [
    {
     "name": "stdout",
     "output_type": "stream",
     "text": [
      "file_list_py: ['cs10000053986926948907.png', 'cs10000354665834323549.png', 'cs10000417372154603123.png', 'cs10000524080030775394.png', 'cs10000592242416795426.png', 'cs10000811708184140319.png', 'cs10000849938093558363.png', 'cs10000898984263089511.png', 'cs100214067654451312.png', 'cs100279640926771550.png', 'cs100367196602765414.png', 'cs100444304289930325.png', 'cs100630750052269087.png', 'cs101172805621739638.png', 'cs101724504648038815.png', 'cs101767157496046490.png', 'cs10188651804540743.png', 'cs101957715605808227.png', 'cs102400950696764945.png', 'cs102422236815498498.png', 'cs102861240281778234.png', 'cs102996970073821635.png', 'cs103078152548071803.png', 'cs103423283580625484.png', 'cs103486772320911001.png', 'cs103587423973880298.png', 'cs103659213402785408.png', 'cs103663933281312281.png', 'cs103822919467497853.png', 'cs103987180036984774.png', 'cs104029297788010187.png', 'cs104058099070443101.png', 'cs104393807829754417.png', 'cs10445905019035139.png', 'cs104495237148868391.png', 'cs104551932686398700.png', 'cs104563437674275986.png', 'cs1048486361028912.png', 'cs104924347815727490.png', 'cs104968955657654599.png', 'cs104983947614280485.png', 'cs105013173991731446.png', 'cs105105240413858862.png', 'cs105149584509303839.png', 'cs105316240118440367.png', 'cs105362030430960514.png', 'cs105479796479016880.png', 'cs10562124521050923.png', 'cs105703236117912354.png', 'cs105773704768325821.png', 'cs106047397033627025.png', 'cs106140924474526814.png', 'cs106409332972483190.png', 'cs106512632384455646.png', 'cs106642065521244760.png', 'cs106882438988624722.png', 'cs10712649413789781.png', 'cs107284793615978722.png', 'cs107311176389079257.png', 'cs107403158821956651.png', 'cs108141475536149981.png', 'cs10823521825795415.png', 'cs108402147894320174.png', 'cs108611842236428884.png', 'cs108714949713610007.png', 'cs108740082089553936.png', 'cs109057168874288515.png', 'cs109230125219233296.png', 'cs109239982892890840.png', 'cs109328847176380298.png', 'cs109444392754548425.png', 'cs109756520370833669.png', 'cs109957928771947348.png', 'cs110023709536839282.png', 'cs11010345522393046.png', 'cs110526296514948366.png', 'cs110563931557499787.png', 'cs110790626714649728.png', 'cs110848211297309264.png', 'cs110895378980355805.png', 'cs11096764340505821.png', 'cs111464773118169668.png', 'cs111730397949486489.png', 'cs112145447474950623.png', 'cs112531926704693505.png', 'cs1125646615313076.png', 'cs112649497221166171.png', 'cs112792777109162058.png', 'cs112858343352712292.png', 'cs113239488699437069.png', 'cs113270871606642660.png', 'cs11361288859011089.png', 'cs11365107979606767.png', 'cs113835201862675849.png', 'cs114083562476861379.png', 'cs114442194319972023.png', 'cs114572491926134293.png', 'cs114653745181833031.png', 'cs114670826804284719.png', 'cs115015743350173470.png']\n"
     ]
    }
   ],
   "source": [
    "# 특정 확장자를 가진 파일 리스트만 가져옴\n",
    "import os\n",
    "\n",
    "path = \"cartoon\"\n",
    "file_list = os.listdir(path)\n",
    "file_list_py = [file for file in file_list if file.endswith(\".png\")]\n",
    "\n",
    "print(\"file_list_py: {}\".format(file_list_py))"
   ]
  },
  {
   "cell_type": "markdown",
   "metadata": {},
   "source": [
    "### image를 다른 format으로 바꿔서 저장하기 (png to jpg)"
   ]
  },
  {
   "cell_type": "code",
   "execution_count": 11,
   "metadata": {},
   "outputs": [
    {
     "data": {
      "application/vnd.jupyter.widget-view+json": {
       "model_id": "468b86be5f0b4de2bcc6206dbe2ac5c4",
       "version_major": 2,
       "version_minor": 0
      },
      "text/plain": [
       "HBox(children=(IntProgress(value=1, bar_style='info', max=1), HTML(value='')))"
      ]
     },
     "metadata": {},
     "output_type": "display_data"
    },
    {
     "name": "stdout",
     "output_type": "stream",
     "text": [
      "\n"
     ]
    }
   ],
   "source": [
    "from tqdm import tqdm_notebook\n",
    "from glob import glob                                                           \n",
    "import cv2 \n",
    "import os\n",
    "\n",
    "# cartoon 폴더 안에 있는 png 파일을 jpg로 바꿔서 convert 폴더에 저장\n",
    "pngs = glob('cartoon/*.png')\n",
    "total = tqdm_notebook\n",
    "path = './convert'\n",
    "    \n",
    "for j in total(pngs):\n",
    "#    print(j)\n",
    "    img = cv2.imread(j)\n",
    "    # j 범위 설정에 주의! 폴더 명에 따라 바꿔줘야 함.\n",
    "    save_name = os.path.join(path, j[8:-3] + 'jpg') \n",
    "    if os.path.exists(path):\n",
    "        cv2.imwrite(save_name, img)\n",
    "    else:\n",
    "        print(\"there is no path\")"
   ]
  },
  {
   "cell_type": "markdown",
   "metadata": {},
   "source": [
    "### data preprocessing"
   ]
  },
  {
   "cell_type": "code",
   "execution_count": 3,
   "metadata": {},
   "outputs": [],
   "source": [
    "import glob\n",
    "import time\n",
    "import cv2\n",
    "import os\n",
    "import tensorflow as tf\n",
    "import numpy as np\n",
    "import matplotlib.pyplot as plt\n",
    "from tensorflow.keras.preprocessing.image import load_img, save_img, img_to_array, array_to_img\n",
    "from PIL import Image"
   ]
  },
  {
   "cell_type": "code",
   "execution_count": 4,
   "metadata": {},
   "outputs": [],
   "source": [
    "basic_dir = './data/'\n",
    "folders = ['selfie', 'cartoon']\n",
    "x = []\n",
    "y = []\n",
    "for i, f in enumerate(folders):\n",
    "    dirs = glob.glob(basic_dir + f + '/*')\n",
    "    if i == 0:\n",
    "        for d in dirs:\n",
    "            img = load_img(d, target_size = (256, 256))\n",
    "            img = img_to_array(img)\n",
    "            x.append(img / 255.)\n",
    "    else:\n",
    "        for d in dirs:\n",
    "            img = load_img(d, target_size = (256, 256))\n",
    "            img = img_to_array(img)\n",
    "            y.append(img / 255.) "
   ]
  },
  {
   "cell_type": "code",
   "execution_count": 5,
   "metadata": {},
   "outputs": [],
   "source": [
    "#npz 파일 포멧은 여러개의 리스트를 한번에 저장하기 위한 포멧이다\n",
    "\n",
    "np.savez('./data/selfie.npz', x[:1003])\n",
    "np.savez('./data/cartoon.npz', y[:1003])"
   ]
  },
  {
   "cell_type": "code",
   "execution_count": null,
   "metadata": {},
   "outputs": [],
   "source": []
  }
 ],
 "metadata": {
  "kernelspec": {
   "display_name": "Python 3",
   "language": "python",
   "name": "python3"
  },
  "language_info": {
   "codemirror_mode": {
    "name": "ipython",
    "version": 3
   },
   "file_extension": ".py",
   "mimetype": "text/x-python",
   "name": "python",
   "nbconvert_exporter": "python",
   "pygments_lexer": "ipython3",
   "version": "3.7.3"
  }
 },
 "nbformat": 4,
 "nbformat_minor": 2
}
